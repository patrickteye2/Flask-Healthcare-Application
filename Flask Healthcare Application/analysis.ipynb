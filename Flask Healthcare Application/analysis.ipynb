{
 "cells": [
  {
   "cell_type": "code",
   "execution_count": null,
   "id": "9c79f076",
   "metadata": {},
   "outputs": [],
   "source": [
    "import pandas as pd\n",
    "import matplotlib.pyplot as plt\n",
    "from pptx import Presentation\n",
    "from pptx.util import Inches\n",
    "import os\n",
    "\n",
    "# loading the exported user data\n",
    "df = pd.read_csv('user_data.csv')\n",
    "\n",
    "# display first few rows\n",
    "df.head()"
   ]
  },
  {
   "cell_type": "code",
   "execution_count": null,
   "id": "f261283b",
   "metadata": {},
   "outputs": [],
   "source": [
    "# grouping data by age and calculating average income per age\n",
    "top_ages = df.groupby(\"Age\")[\"Income\"].mean().sort_values(ascending=False).head(10)\n",
    "\n",
    "# plotting\n",
    "plt.figure(figsize=(10,6))\n",
    "top_ages.plot(kind='bar', color='skyblue')\n",
    "plt.title(\"Top 10 Ages with Highest Average Income\")\n",
    "plt.xlabel(\"Age\")\n",
    "plt.ylabel(\"Average Income\")\n",
    "plt.xticks(rotation=45)\n",
    "plt.tight_layout()\n",
    "\n",
    "# Save chart as image\n",
    "plt.tight_layout()\n",
    "plt.savefig(\"age_income_chart.png\")  # Change filename as needed\n",
    "plt.close()\n"
   ]
  },
  {
   "cell_type": "code",
   "execution_count": null,
   "id": "ba402466",
   "metadata": {},
   "outputs": [],
   "source": [
    "# Expense-related columns\n",
    "expense_columns = [\"Utilities\", \"Entertainment\", \"School_fees\", \"Shopping\", \"Healthcare\"]\n",
    "\n",
    "# Group and sum by gender\n",
    "gender_expenses = df.groupby(\"Gender\")[expense_columns].sum()\n",
    "\n",
    "# Transpose for better bar chart format\n",
    "gender_expenses.T.plot(kind=\"bar\", figsize=(10, 6), colormap='Paired')\n",
    "\n",
    "plt.title(\"Gender Distribution Across Spending Categories\")\n",
    "plt.xlabel(\"Expense Category\")\n",
    "plt.ylabel(\"Total Spending\")\n",
    "plt.xticks(rotation=45)\n",
    "plt.tight_layout()\n",
    "\n",
    "# NEW: Save chart as image\n",
    "plt.tight_layout()\n",
    "plt.savefig(\"gender_spending_chart.png\")\n",
    "plt.close()\n"
   ]
  },
  {
   "cell_type": "code",
   "execution_count": null,
   "id": "ade1d686",
   "metadata": {},
   "outputs": [],
   "source": [
    "# Create PowerPoint presentation with charts\n",
    "\n",
    "prs = Presentation()\n",
    "prs.slide_width = Inches(13.33)\n",
    "prs.slide_height = Inches(7.5)\n",
    "\n",
    "def add_slide_with_image(title, image_path):\n",
    "    # title slide\n",
    "    if title:\n",
    "        title_slide = prs.slides.add_slide(prs.slide_layouts[0])\n",
    "        title_slide.shapes.title.text = title\n",
    "\n",
    "    # Add image slide\n",
    "    slide = prs.slides.add_slide(prs.slide_layouts[5])  # blank\n",
    "    left = Inches(1)\n",
    "    top = Inches(1)\n",
    "    width = Inches(11.33)\n",
    "    slide.shapes.add_picture(image_path, left, top, width=width)\n",
    "\n",
    "# Add your saved plots\n",
    "add_slide_with_image(\"Top Ages with Highest Income\", \"age_income_chart.png\")\n",
    "add_slide_with_image(\"Gender Distribution of Spending\", \"gender_spending_chart.png\")\n",
    "\n",
    "# Save PowerPoint file\n",
    "prs.save(\"survey_analysis_summary.pptx\")\n",
    "print(\"PowerPoint exported: survey_analysis_summary.pptx\")"
   ]
  },
  {
   "cell_type": "code",
   "execution_count": null,
   "id": "0ecb0826",
   "metadata": {},
   "outputs": [],
   "source": [
    "# Generate basic descriptive statistics\n",
    "df.describe(include='all')\n"
   ]
  }
 ],
 "metadata": {
  "kernelspec": {
   "display_name": "base",
   "language": "python",
   "name": "python3"
  },
  "language_info": {
   "codemirror_mode": {
    "name": "ipython",
    "version": 3
   },
   "file_extension": ".py",
   "mimetype": "text/x-python",
   "name": "python",
   "nbconvert_exporter": "python",
   "pygments_lexer": "ipython3",
   "version": "3.12.7"
  }
 },
 "nbformat": 4,
 "nbformat_minor": 5
}
